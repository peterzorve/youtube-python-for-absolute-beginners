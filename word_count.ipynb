{
 "cells": [
  {
   "cell_type": "markdown",
   "metadata": {},
   "source": [
    "<h4 style=\"background-color: black; color: orange; font-family: Consolas, sans-serif; border-radius: 10px; padding: 3px; padding-left: 10px; \">\n",
    "    Count the number of words in a sentence\n",
    "</h4>\n"
   ]
  },
  {
   "cell_type": "code",
   "execution_count": 12,
   "metadata": {},
   "outputs": [
    {
     "name": "stdout",
     "output_type": "stream",
     "text": [
      "{'python': 4, 'is': 1, 'a': 1, 'very': 1, 'simple': 1, 'programming': 1, 'language': 1, 'to': 1, 'learn': 1}\n"
     ]
    }
   ],
   "source": [
    "def word_count(sentence):\n",
    "    word_dictionary = {}\n",
    "    punctuations = '''!()-[]{};:'\"\\,<>./?@#$%^&*_~'''\n",
    "    process_sentence = \"\"\n",
    "    sentence = sentence.lower() # convert everything to lower case\n",
    "\n",
    "    # We have to remove all punctuations if we want to count just the words \n",
    "    # There are several method of doing that. Let us use a for loop \n",
    "\n",
    "    for i in sentence: \n",
    "        if i in punctuations: \n",
    "            pass \n",
    "        else: \n",
    "            process_sentence += i\n",
    "\n",
    "    sentence = process_sentence.split()\n",
    "    for word in sentence:\n",
    "        if word not in word_dictionary:\n",
    "            word_dictionary[word] = 1 \n",
    "        else: \n",
    "            word_dictionary[word] = word_dictionary[word] +  1 \n",
    "    print(word_dictionary) \n",
    "    return \n",
    "\n",
    "word_count(\"Python python. python? python is a very simple programming language to learn.\")"
   ]
  },
  {
   "cell_type": "code",
   "execution_count": 14,
   "metadata": {},
   "outputs": [
    {
     "name": "stdout",
     "output_type": "stream",
     "text": [
      "{'atoms': 12, 'are': 12, 'the': 43, 'basic': 4, 'particles': 2, 'of': 36, 'chemical': 8, 'elements': 5, 'an': 8, 'atom': 10, 'consists': 1, 'a': 18, 'nucleus': 7, 'protons': 12, 'and': 20, 'generally': 1, 'neutrons': 4, 'surrounded': 1, 'by': 8, 'electromagnetically': 1, 'bound': 1, 'swarm': 1, 'electrons': 6, 'distinguished': 1, 'from': 4, 'each': 6, 'other': 8, 'number': 3, 'that': 14, 'in': 19, 'their': 2, 'for': 6, 'example': 2, 'any': 2, 'contains': 2, '11': 1, 'is': 26, 'sodium': 1, '29': 1, 'copper': 1, 'with': 5, 'same': 2, 'but': 1, 'different': 2, 'called': 3, 'isotopes': 1, 'element': 4, 'extremely': 1, 'small': 3, 'typically': 1, 'around': 1, '100': 3, 'picometers': 1, 'across': 2, 'human': 1, 'hair': 1, 'about': 3, 'million': 1, 'carbon': 1, 'wide': 1, 'this': 7, 'smaller': 1, 'than': 7, 'shortest': 1, 'wavelength': 1, 'visible': 1, 'light': 1, 'which': 3, 'means': 2, 'humans': 1, 'cannot': 1, 'see': 1, 'conventional': 1, 'microscopes': 1, 'so': 2, 'accurately': 1, 'predicting': 1, 'behavior': 1, 'using': 1, 'classical': 1, 'physics': 1, 'not': 2, 'possible': 1, 'due': 1, 'to': 12, 'quantum': 1, 'effects': 1, 'more': 4, '9994': 1, 'mass': 1, 'have': 2, 'positive': 3, 'electric': 1, 'charge': 5, 'no': 1, 'positively': 2, 'charged': 3, 'negatively': 1, 'opposing': 1, 'what': 1, 'binds': 1, 'them': 1, 'if': 3, 'numbers': 2, 'equal': 1, 'as': 6, 'they': 2, 'normally': 1, 'then': 2, 'electrically': 1, 'neutral': 1, 'whole': 2, 'has': 4, 'it': 3, 'overall': 1, 'negative': 2, 'ion': 2, 'or': 4, 'anion': 1, 'conversely': 1, 'cation': 1, 'attracted': 2, 'atomic': 4, 'electromagnetic': 3, 'force': 6, 'nuclear': 3, 'usually': 1, 'stronger': 2, 'repels': 1, 'one': 4, 'another': 1, 'under': 1, 'certain': 1, 'circumstances': 1, 'repelling': 1, 'becomes': 1, 'case': 1, 'splits': 1, 'leaves': 1, 'behind': 1, 'form': 3, 'decay': 1, 'can': 1, 'attach': 2, 'bonds': 1, 'compounds': 3, 'such': 1, 'molecules': 2, 'crystals': 1, 'ability': 1, 'detach': 1, 'responsible': 1, 'most': 1, 'physical': 1, 'changes': 2, 'observed': 1, 'nature': 1, 'chemistry': 1, 'science': 1, 'studies': 1, 'these': 6, 'history': 2, 'theory': 3, 'main': 2, 'article': 2, 'philosophy': 2, 'atomism': 1, 'idea': 3, 'matter': 1, 'made': 1, 'up': 1, 'tiny': 1, 'indivisible': 2, 'old': 2, 'appeared': 1, 'many': 1, 'ancient': 3, 'cultures': 1, 'word': 3, 'derived': 1, 'greek': 1, 'atomosa': 1, 'uncuttable': 1, 'was': 1, 'based': 2, 'philosophical': 1, 'reasoning': 2, 'rather': 1, 'scientific': 1, 'modern': 1, 'on': 1, 'concepts12': 1, 'early': 2, '19th': 1, 'century': 1, 'scientist': 1, 'john': 3, 'dalton': 4, 'noticed': 2, 'substances': 1, 'seemed': 1, 'combine': 2, 'unit': 2, 'weight': 3, 'he': 3, 'decided': 2, 'use': 1, 'refer': 1, 'units': 3, 'thought': 1, 'were': 1, 'essence3': 1, 'daltons': 2, 'law': 2, 'multiple': 2, 'proportions': 2, 'various': 1, 'depicted': 1, 'new': 1, 'system': 1, '1808': 1, '1800s': 1, 'english': 1, 'chemist': 1, 'compiled': 1, 'experimental': 1, 'data': 1, 'gathered': 1, 'him': 1, 'scientists': 1, 'discovered': 1, 'pattern': 2, 'now': 1, 'known': 1, 'contain': 1, 'two': 2, 'particular': 1, 'amount': 1, 'per': 1, 'measure': 1, 'b': 1, 'will': 1, 'differ': 1, 'ratios': 1, 'suggested': 1, 'multiples': 1, 'having': 1, 'unique': 1, 'call': 1, 'atoms4': 1, 'there': 4, 'types': 1, 'tin': 6, 'oxide': 2, 'grey': 3, 'powder': 4, '881': 1, '119': 1, 'oxygen': 5, 'white': 3, '787': 1, '213': 1, 'adjusting': 1, 'figures': 1, '135': 2, 'g': 4, 'every': 3, '27': 2, 'ratio': 1, '12': 1, 'concluded': 1}\n"
     ]
    }
   ],
   "source": [
    "from sentence import atom\n",
    "\n",
    "word_count(atom)"
   ]
  }
 ],
 "metadata": {
  "kernelspec": {
   "display_name": "Python 3",
   "language": "python",
   "name": "python3"
  },
  "language_info": {
   "codemirror_mode": {
    "name": "ipython",
    "version": 3
   },
   "file_extension": ".py",
   "mimetype": "text/x-python",
   "name": "python",
   "nbconvert_exporter": "python",
   "pygments_lexer": "ipython3",
   "version": "3.11.4"
  }
 },
 "nbformat": 4,
 "nbformat_minor": 2
}
