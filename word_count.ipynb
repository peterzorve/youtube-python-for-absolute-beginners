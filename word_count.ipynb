{
 "cells": [
  {
   "cell_type": "markdown",
   "metadata": {},
   "source": [
    "<h4 style=\"background-color: black; color: orange; font-family: Consolas, sans-serif; border-radius: 10px; padding: 3px; padding-left: 10px; \">\n",
    "    Count the number of words in a sentence\n",
    "</h4>\n"
   ]
  },
  {
   "cell_type": "code",
   "execution_count": 1,
   "metadata": {},
   "outputs": [
    {
     "name": "stdout",
     "output_type": "stream",
     "text": [
      "{'python': 4, 'is': 1, 'a': 1, 'very': 1, 'simple': 1, 'programming': 1, 'language': 1, 'to': 1, 'learn': 1}\n"
     ]
    }
   ],
   "source": [
    "def word_count(sentence):\n",
    "    word_dictionary = {}\n",
    "    punctuations = '''!()-[]{};:'\"\\,<>./?@#$%^&*_~'''\n",
    "    process_sentence = \"\"\n",
    "    sentence = sentence.lower() # convert everything to lower case\n",
    "\n",
    "    # We have to remove all punctuations if we want to count just the words \n",
    "    # There are several method of doing that. Let us use a for loop \n",
    "\n",
    "    for i in sentence: \n",
    "        if i in punctuations: \n",
    "            pass \n",
    "        else: \n",
    "            process_sentence += i\n",
    "\n",
    "    sentence = process_sentence.split()\n",
    "    for word in sentence:\n",
    "        if word not in word_dictionary:\n",
    "            word_dictionary[word] = 1 \n",
    "        else: \n",
    "            word_dictionary[word] = word_dictionary[word] +  1 \n",
    "    print(word_dictionary) \n",
    "    return \n",
    "\n",
    "word_count(\"Python python. python? python is a very simple programming language to learn.\")"
   ]
  }
 ],
 "metadata": {
  "kernelspec": {
   "display_name": "Python 3",
   "language": "python",
   "name": "python3"
  },
  "language_info": {
   "codemirror_mode": {
    "name": "ipython",
    "version": 3
   },
   "file_extension": ".py",
   "mimetype": "text/x-python",
   "name": "python",
   "nbconvert_exporter": "python",
   "pygments_lexer": "ipython3",
   "version": "3.11.4"
  }
 },
 "nbformat": 4,
 "nbformat_minor": 2
}
