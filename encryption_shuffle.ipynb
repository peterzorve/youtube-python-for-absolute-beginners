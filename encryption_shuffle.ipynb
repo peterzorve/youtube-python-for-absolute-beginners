{
 "cells": [
  {
   "cell_type": "markdown",
   "metadata": {},
   "source": [
    "<h4 style=\"background-color: black; color: orange; font-family: Consolas, sans-serif; border-radius: 10px; padding: 3px; padding-left: 10px; \">\n",
    "    Simple text encryption\n",
    "</h4>\n"
   ]
  },
  {
   "cell_type": "code",
   "execution_count": 7,
   "metadata": {},
   "outputs": [
    {
     "data": {
      "text/plain": [
       "'drtye aiy.yo.b##ei rvm '"
      ]
     },
     "execution_count": 7,
     "metadata": {},
     "output_type": "execute_result"
    }
   ],
   "source": [
    "# Next, let us look at another method. Here, we will just shuffle the text. \n",
    "\n",
    "def encryption_shuffle(text):\n",
    "    text_length = len(str(text))\n",
    "    first_part, second_part = \"\", \"\" # After shuffling, we want to split it into two parts. Just adding a bit of complexity to the code\n",
    "    for i in range(text_length):\n",
    "        if i % 2 == 0: \n",
    "            first_part = first_part + text[i]\n",
    "        else: \n",
    "            second_part = second_part + text[i]\n",
    "    shuffle_text = first_part.lower()[::-1] + \"y.yo.b##\" + second_part.lower()[::-1] # I added \"y.yo.b##\" in between to be able to identify the first part from the second part during decryption\n",
    "                                                                                     # [::-1] allows me to reverse each part. It adds complexity to the encryption\n",
    "\n",
    "    return shuffle_text\n",
    "\n",
    "encryption_shuffle(\"I am very tired\")"
   ]
  },
  {
   "cell_type": "code",
   "execution_count": 11,
   "metadata": {},
   "outputs": [
    {
     "data": {
      "text/plain": [
       "'i am very tired'"
      ]
     },
     "execution_count": 11,
     "metadata": {},
     "output_type": "execute_result"
    }
   ],
   "source": [
    "# Now let us decrypt the previous the text \n",
    "def decryption_shuffle(text):\n",
    "    if \"y.yo.b##\" in text: \n",
    "        text = text.split(\"y.yo.b##\") # I am using this to split the encryted file into to \n",
    "        first_part = text[0][::-1]\n",
    "        second_part = text[1][::-1]\n",
    "        decrypted_text = \"\"\n",
    "        for i in range(len(second_part)):\n",
    "            decrypted_text = decrypted_text + first_part[i] + second_part[i]\n",
    "\n",
    "        # There is the possibility that the length of the first_part will be one more than that \n",
    "        # of the second part if the length of original text is an odd number. \n",
    "        # This will end up removing the last letter in the first_part. \n",
    "        # Let's fix that \n",
    "\n",
    "        if len(first_part) != second_part: \n",
    "            decrypted_text = decrypted_text + first_part[-1]\n",
    "        return decrypted_text\n",
    "    else: \n",
    "        return None\n",
    "     \n",
    "\n",
    "decryption_shuffle('drtye aiy.yo.b##ei rvm ')"
   ]
  }
 ],
 "metadata": {
  "kernelspec": {
   "display_name": "Python 3",
   "language": "python",
   "name": "python3"
  },
  "language_info": {
   "codemirror_mode": {
    "name": "ipython",
    "version": 3
   },
   "file_extension": ".py",
   "mimetype": "text/x-python",
   "name": "python",
   "nbconvert_exporter": "python",
   "pygments_lexer": "ipython3",
   "version": "3.11.4"
  }
 },
 "nbformat": 4,
 "nbformat_minor": 2
}
