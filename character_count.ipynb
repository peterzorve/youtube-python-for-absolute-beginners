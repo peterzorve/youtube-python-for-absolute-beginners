{
 "cells": [
  {
   "cell_type": "markdown",
   "metadata": {},
   "source": [
    "<h4 style=\"background-color: black; color: orange; font-family: Consolas, sans-serif; border-radius: 10px; padding: 3px; padding-left: 10px; \">\n",
    "    Count the number of each characters in a text\n",
    "</h4>\n"
   ]
  },
  {
   "cell_type": "code",
   "execution_count": 16,
   "metadata": {},
   "outputs": [
    {
     "name": "stdout",
     "output_type": "stream",
     "text": [
      "The input you provided is not a string/text\n",
      "No character found\n"
     ]
    }
   ],
   "source": [
    "def charact_count(text): \n",
    "    count_dictionary = {}\n",
    "    if type(text) == str:\n",
    "        for character in text: \n",
    "            if character == \" \": \n",
    "                pass \n",
    "            else: \n",
    "                if character not in count_dictionary: \n",
    "                    count_dictionary[character] = 1\n",
    "                else: \n",
    "                    count_dictionary[character] = count_dictionary[character] + 1\n",
    "    else: \n",
    "        print(\"The input you provided is not a string/text\")\n",
    "    \n",
    "    if len(count_dictionary) == 0: \n",
    "        print(\"No character found\")\n",
    "    else: \n",
    "        print(count_dictionary)\n",
    "    return \n",
    "\n",
    "charact_count([\"111111111111111112\"])"
   ]
  }
 ],
 "metadata": {
  "kernelspec": {
   "display_name": "Python 3",
   "language": "python",
   "name": "python3"
  },
  "language_info": {
   "codemirror_mode": {
    "name": "ipython",
    "version": 3
   },
   "file_extension": ".py",
   "mimetype": "text/x-python",
   "name": "python",
   "nbconvert_exporter": "python",
   "pygments_lexer": "ipython3",
   "version": "3.11.4"
  }
 },
 "nbformat": 4,
 "nbformat_minor": 2
}
