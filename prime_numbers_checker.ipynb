{
 "cells": [
  {
   "cell_type": "markdown",
   "metadata": {},
   "source": [
    "<h4 style=\"background-color: black; color: orange; font-family: Consolas, sans-serif; border-radius: 10px; padding: 3px; padding-left: 10px; \">\n",
    "    Check if a number is prime\n",
    "</h4>\n"
   ]
  },
  {
   "cell_type": "code",
   "execution_count": 25,
   "metadata": {},
   "outputs": [
    {
     "name": "stdout",
     "output_type": "stream",
     "text": [
      "3 is a prime number\n"
     ]
    }
   ],
   "source": [
    "def prime_number_checker(number): \n",
    "    is_prime = None\n",
    "    if type(number) == int: \n",
    "        if number <= 1: \n",
    "            print(\"Number should be greater than one\")\n",
    "        elif (number == 2):\n",
    "            print(number, \"is a prime number\") \n",
    "        else: \n",
    "            is_prime = True\n",
    "            for i in range(2, int(number/2) +  1): \n",
    "                if number % i == 0: \n",
    "                    is_prime = False \n",
    "    else: \n",
    "        print(\"The input is should be integer\")\n",
    "    \n",
    "    if is_prime == None: \n",
    "        pass \n",
    "    if is_prime == False: \n",
    "        print(number, \"is not a prime number\")\n",
    "    if is_prime == True: \n",
    "        print(number, \"is a prime number\")\n",
    "\n",
    "\n",
    "    return \n",
    "\n",
    "prime_number_checker(3)"
   ]
  }
 ],
 "metadata": {
  "kernelspec": {
   "display_name": "Python 3",
   "language": "python",
   "name": "python3"
  },
  "language_info": {
   "codemirror_mode": {
    "name": "ipython",
    "version": 3
   },
   "file_extension": ".py",
   "mimetype": "text/x-python",
   "name": "python",
   "nbconvert_exporter": "python",
   "pygments_lexer": "ipython3",
   "version": "3.11.4"
  }
 },
 "nbformat": 4,
 "nbformat_minor": 2
}
