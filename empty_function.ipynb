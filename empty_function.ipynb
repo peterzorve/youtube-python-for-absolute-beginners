{
 "cells": [
  {
   "cell_type": "markdown",
   "metadata": {},
   "source": [
    "<h4 style=\"background-color: black; color: orange; font-family: Consolas, sans-serif; border-radius: 10px; padding: 3px; padding-left: 10px; \">\n",
    "    A bit complex encryption and decryption\n",
    "</h4>\n"
   ]
  },
  {
   "cell_type": "code",
   "execution_count": 11,
   "metadata": {},
   "outputs": [],
   "source": [
    "# Now lets combined the caesar cipher and the shuffle method to generate \n",
    "# quite a little complex  encryption and decryption \n",
    "\n",
    "from combined_methods import *   # This allows us to import all the functions in combined_methods"
   ]
  },
  {
   "cell_type": "code",
   "execution_count": 17,
   "metadata": {},
   "outputs": [
    {
     "data": {
      "text/plain": [
       "'yo hrs k?gpimsom.mc.p##zhc sbs mi c f'"
      ]
     },
     "execution_count": 17,
     "metadata": {},
     "output_type": "execute_result"
    }
   ],
   "source": [
    "def more_complex_encryption(text, shift_number):\n",
    "    text = text.lower().strip()\n",
    "\n",
    "    first_encryption = encryption_shuffle(text)\n",
    "    second_encryption = caesar_cipher_encryption(first_encryption, shift_number)\n",
    "\n",
    "    # print(f\"Original text:          {text}\")\n",
    "    # print(f\"After 1st encryption:   {first_encryption}\")\n",
    "    # print(f\"After 2nd encryption:   {second_encryption}\")\n",
    "    return second_encryption\n",
    "\n",
    "more_complex_encryption(\"are you busy? we need to talk\", 300)"
   ]
  },
  {
   "cell_type": "code",
   "execution_count": 22,
   "metadata": {},
   "outputs": [
    {
     "name": "stdout",
     "output_type": "stream",
     "text": [
      "cs lvw o?ktmqwsq.qg.t##dlg wfw qm g j\n"
     ]
    }
   ],
   "source": [
    "encrypted_message = more_complex_encryption(\"are you busy? we need to talk\", 200)\n",
    "print(encrypted_message)"
   ]
  },
  {
   "cell_type": "code",
   "execution_count": 24,
   "metadata": {},
   "outputs": [
    {
     "name": "stdout",
     "output_type": "stream",
     "text": [
      "are you busy? we need to talk\n"
     ]
    }
   ],
   "source": [
    "def more_complex_decryption(text, shift_number):\n",
    "    first_decryption = caesar_cipher_decryption(text, shift_number)\n",
    "    second_decryption = decryption_shuffle(first_decryption)\n",
    "    print(second_decryption)\n",
    "    return \n",
    "\n",
    "more_complex_decryption(encrypted_message, 200)"
   ]
  },
  {
   "cell_type": "code",
   "execution_count": 26,
   "metadata": {},
   "outputs": [
    {
     "name": "stdout",
     "output_type": "stream",
     "text": [
      "\n",
      "Atoms are the basic particles of the chemical elements. \n",
      "An atom consists of a nucleus of protons and generally neutrons, \n",
      "surrounded by an electromagnetically bound swarm of electrons. \n",
      "The chemical elements are distinguished from each other by the \n",
      "number of protons that are in their atoms. For example, any atom \n",
      "that contains 11 protons is sodium, and any atom that contains 29 \n",
      "protons is copper. Atoms with the same number of protons but a \n",
      "different number of neutrons are called isotopes of the same element.\n",
      "\n",
      "Atoms are extremely small, typically around 100 picometers across. \n",
      "A human hair is about a million carbon atoms wide. This is smaller \n",
      "than the shortest wavelength of visible light, which means humans \n",
      "cannot see atoms with conventional microscopes. Atoms are so small \n",
      "that accurately predicting their behavior using classical physics \n",
      "is not possible due to quantum effects. \n",
      "\n"
     ]
    }
   ],
   "source": [
    "from atoms import atom_defined\n",
    "print(atom_defined)"
   ]
  },
  {
   "cell_type": "code",
   "execution_count": 28,
   "metadata": {},
   "outputs": [
    {
     "name": "stdout",
     "output_type": "stream",
     "text": [
      "hrutbipfd j axheich\n",
      "hxnearhprvxjgxpt xw cixtentpjr pi ab htphdp.tdhgx pditcrwx bi t dcr cbwhpbwxl,wx axx dwvttp hidhticw\n",
      "gaphh xi.slhdpcqp dax  jq xgp pj \n",
      ".hgphttdx 0 cdpnarei,ab abgm g bi\n",
      ".cba bhtiu tddxsap g cgjcu tbcittus  j cig dgqj bhtiwx bi ged xhdde 2hxid pibi c c bxd xhdde1 cpcriw\n",
      "bi c teptgu.bi xw xtpiw cig dgqj\n",
      "tin ti rtbg thjcix g itttarbw w\n",
      ".cgra dbphsjqnaricpdittc qssjgj\n",
      ",cgjcnagcvsphddeu jaj  dhhhd dpc\n",
      ".itttarbw w dhaxgerhqtitphdpn.nd.q##.itu jcj itstqhd d x rhw pxha ch dkwqgtivxrsg aigrpiw\n",
      "aphd g bi herdrbacxckd ilhdpthicp\n",
      "hpj ct rw ivatqhku icaklitgw w pi tab xhw tx bi dgrcxabpidph xwcbwp hdr gibre01sjg apxn aphnttittphdp\n",
      "ittttp w dheih tartphdit dgqj cgux\n",
      "piqhddeu tbctp w ilhdp.terh cig\n",
      "9 cpcriw dpnpsp,jshh cig 1hxid pi dpnp,abm d hdpgtic g pihddeu tbc w qgwdwp duswxvxhstphcba pxtrti hdittu gl cd apxtvbgra pn tcdgh hdit aptt c cig dhtrcpu ixcrbi p hcba pxtrtiu trip xp w g bi\n"
     ]
    }
   ],
   "source": [
    "encryption = more_complex_encryption(atom_defined, 9999)\n",
    "print(encryption)"
   ]
  },
  {
   "cell_type": "code",
   "execution_count": 29,
   "metadata": {},
   "outputs": [
    {
     "name": "stdout",
     "output_type": "stream",
     "text": [
      "atoms are the basic particles of the chemical elements. \n",
      "an atom consists of a nucleus of protons and generally neutrons, \n",
      "surrounded by an electromagnetically bound swarm of electrons. \n",
      "the chemical elements are distinguished from each other by the \n",
      "number of protons that are in their atoms. for example, any atom \n",
      "that contains 11 protons is sodium, and any atom that contains 29 \n",
      "protons is copper. atoms with the same number of protons but a \n",
      "different number of neutrons are called isotopes of the same element.\n",
      "\n",
      "atoms are extremely small, typically around 100 picometers across. \n",
      "a human hair is about a million carbon atoms wide. this is smaller \n",
      "than the shortest wavelength of visible light, which means humans \n",
      "cannot see atoms with conventional microscopes. atoms are so small \n",
      "that accurately predicting their behavior using classical physics \n",
      "is not possible due to quantum effects.s\n",
      "None\n"
     ]
    }
   ],
   "source": [
    "decryption = more_complex_decryption(encryption, 9999)\n",
    "print(decryption)"
   ]
  }
 ],
 "metadata": {
  "kernelspec": {
   "display_name": "Python 3",
   "language": "python",
   "name": "python3"
  },
  "language_info": {
   "codemirror_mode": {
    "name": "ipython",
    "version": 3
   },
   "file_extension": ".py",
   "mimetype": "text/x-python",
   "name": "python",
   "nbconvert_exporter": "python",
   "pygments_lexer": "ipython3",
   "version": "3.11.4"
  }
 },
 "nbformat": 4,
 "nbformat_minor": 2
}
