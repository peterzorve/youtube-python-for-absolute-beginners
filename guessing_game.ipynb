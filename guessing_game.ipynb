{
 "cells": [
  {
   "cell_type": "markdown",
   "metadata": {},
   "source": [
    "<h4 style=\"background-color: black; color: orange; font-family: Consolas, sans-serif; border-radius: 10px; padding: 3px; padding-left: 10px; \">\n",
    "    Guessing the number\n",
    "</h4>\n"
   ]
  },
  {
   "cell_type": "code",
   "execution_count": 26,
   "metadata": {},
   "outputs": [
    {
     "name": "stdout",
     "output_type": "stream",
     "text": [
      "The secret number is less than 60. Try again\n",
      "The secret number is less than 40. Try again\n",
      "The secret number is greater than 30. Try again\n",
      "The secret number is less than 35. Try again\n",
      "The secret number is less than 33. Try again\n",
      "You got it. The secret number was 32. It took you 6 to get it right\n"
     ]
    }
   ],
   "source": [
    "import random \n",
    "from time import sleep \n",
    "def guess_the_number():\n",
    "    generate_secret_number = random.randint(1, 100)\n",
    "    number_of_attempts = 1 \n",
    "    while True: \n",
    "        try: \n",
    "            take_a_guess = int(float(input(\"Guess the number: \")))\n",
    "            if take_a_guess == generate_secret_number:\n",
    "                print(f\"You got it. The secret number was {generate_secret_number}. It took you {number_of_attempts} to get it right\")\n",
    "                break \n",
    "            else: \n",
    "                number_of_attempts = number_of_attempts + 1\n",
    "                if take_a_guess > generate_secret_number:\n",
    "                    print(f\"The secret number is less than {take_a_guess}. Try again\")\n",
    "                    sleep(1)\n",
    "                else: \n",
    "                    print(f\"The secret number is greater than {take_a_guess}. Try again\")\n",
    "                    sleep(1)\n",
    "        except: \n",
    "            print(\"Could not convert your input into a number\")\n",
    "\n",
    "    return \n",
    "\n",
    "guess_the_number()"
   ]
  }
 ],
 "metadata": {
  "kernelspec": {
   "display_name": "Python 3",
   "language": "python",
   "name": "python3"
  },
  "language_info": {
   "codemirror_mode": {
    "name": "ipython",
    "version": 3
   },
   "file_extension": ".py",
   "mimetype": "text/x-python",
   "name": "python",
   "nbconvert_exporter": "python",
   "pygments_lexer": "ipython3",
   "version": "3.11.4"
  }
 },
 "nbformat": 4,
 "nbformat_minor": 2
}
