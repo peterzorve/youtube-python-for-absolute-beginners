{
 "cells": [
  {
   "cell_type": "markdown",
   "metadata": {},
   "source": [
    "<h4 style=\"background-color: black; color: orange; font-family: Consolas, sans-serif; border-radius: 10px; padding: 3px; padding-left: 10px; \">\n",
    "    Factorial of a number\n",
    "</h4>\n"
   ]
  },
  {
   "cell_type": "code",
   "execution_count": 36,
   "metadata": {},
   "outputs": [
    {
     "name": "stdout",
     "output_type": "stream",
     "text": [
      "The factorial of 5 is 120.\n"
     ]
    }
   ],
   "source": [
    "def factorial(number):\n",
    "    factorial = None \n",
    "    if type(number) == int: \n",
    "        if number < 0:\n",
    "            print(\"The number should be equal to or greater than zero\")  \n",
    "        if (number == 0) or (number == 1): \n",
    "            factorial = 1\n",
    "        else: \n",
    "            factorial = 1\n",
    "            for i in range(1, number + 1): \n",
    "                factorial *= i\n",
    "    else:\n",
    "        print(\"Provide a valid number/integer\")\n",
    "\n",
    "    if factorial != None: \n",
    "        print(f\"The factorial of {number} is {factorial}.\")\n",
    "    return\n",
    "\n",
    "factorial(5)"
   ]
  }
 ],
 "metadata": {
  "kernelspec": {
   "display_name": "Python 3",
   "language": "python",
   "name": "python3"
  },
  "language_info": {
   "codemirror_mode": {
    "name": "ipython",
    "version": 3
   },
   "file_extension": ".py",
   "mimetype": "text/x-python",
   "name": "python",
   "nbconvert_exporter": "python",
   "pygments_lexer": "ipython3",
   "version": "3.11.4"
  }
 },
 "nbformat": 4,
 "nbformat_minor": 2
}
