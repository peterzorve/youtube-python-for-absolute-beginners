{
 "cells": [
  {
   "cell_type": "code",
   "execution_count": 1,
   "metadata": {},
   "outputs": [
    {
     "name": "stdout",
     "output_type": "stream",
     "text": [
      "The area of a rectangle with breadth of 5 and length of 10.99 is 54.95.\n"
     ]
    }
   ],
   "source": [
    "def area_of_a_rectangle(breadth, length):\n",
    "    if ((type(breadth) == float) or (type(breadth) == int)) and ((type(length) == float) or (type(length) == int)):\n",
    "        area = breadth * length\n",
    "        print(f\"The area of a rectangle with breadth of {breadth} and length of {length} is {area}.\")\n",
    "    else:\n",
    "        print(\"Both the breadth and length must be valid numbers\")\n",
    "    return \n",
    "\n",
    "area_of_a_rectangle(5, 10.99)"
   ]
  }
 ],
 "metadata": {
  "kernelspec": {
   "display_name": "Python 3",
   "language": "python",
   "name": "python3"
  },
  "language_info": {
   "codemirror_mode": {
    "name": "ipython",
    "version": 3
   },
   "file_extension": ".py",
   "mimetype": "text/x-python",
   "name": "python",
   "nbconvert_exporter": "python",
   "pygments_lexer": "ipython3",
   "version": "3.11.4"
  }
 },
 "nbformat": 4,
 "nbformat_minor": 2
}
