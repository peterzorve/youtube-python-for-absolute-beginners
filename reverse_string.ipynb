{
 "cells": [
  {
   "cell_type": "markdown",
   "metadata": {},
   "source": [
    "<h4 style=\"background-color: black; color: orange; font-family: Consolas, sans-serif; border-radius: 10px; padding: 3px; padding-left: 10px; \">\n",
    "    Reverse a string of characters\n",
    "</h4>\n"
   ]
  },
  {
   "cell_type": "code",
   "execution_count": 15,
   "metadata": {},
   "outputs": [
    {
     "name": "stdout",
     "output_type": "stream",
     "text": [
      "Invalid text\n"
     ]
    }
   ],
   "source": [
    "def reverse_text(text):\n",
    "    if type(text) == str:\n",
    "        if len(text) == 0:\n",
    "            print(\"There is no text to reverse\")\n",
    "        elif len(text) == 1: \n",
    "            print(\"There is only one character. The original and the reverse are the same.\")\n",
    "        else:\n",
    "            reversed_text = text[::-1]\n",
    "            print(reversed_text)\n",
    "    else: \n",
    "        print(\"Invalid text\")\n",
    "    return\n",
    "\n",
    "reverse_text([15])"
   ]
  },
  {
   "cell_type": "code",
   "execution_count": 29,
   "metadata": {},
   "outputs": [
    {
     "name": "stdout",
     "output_type": "stream",
     "text": [
      "The reverse of book is koob.\n"
     ]
    }
   ],
   "source": [
    "# Another method \n",
    "\n",
    "def reversed_text_another_method(text):\n",
    "    reversed_string = \"\"\n",
    "    if type(text) == str:\n",
    "        more_characters = len(text) > 2\n",
    "        if more_characters: \n",
    "            length_of_text = len(text)\n",
    "            for i in range(length_of_text): \n",
    "                reversed_string = reversed_string + (text[length_of_text - i - 1])\n",
    "        else: \n",
    "            print(\"There is no or just one character\")\n",
    "    else:\n",
    "        print(\"Invalid text format\")\n",
    "\n",
    "    if len(reversed_string) > 0:\n",
    "        print(f\"The reverse of {text} is {reversed_string}.\")\n",
    "    return \n",
    "\n",
    "reversed_text_another_method(\"book\")"
   ]
  }
 ],
 "metadata": {
  "kernelspec": {
   "display_name": "Python 3",
   "language": "python",
   "name": "python3"
  },
  "language_info": {
   "codemirror_mode": {
    "name": "ipython",
    "version": 3
   },
   "file_extension": ".py",
   "mimetype": "text/x-python",
   "name": "python",
   "nbconvert_exporter": "python",
   "pygments_lexer": "ipython3",
   "version": "3.11.4"
  }
 },
 "nbformat": 4,
 "nbformat_minor": 2
}
