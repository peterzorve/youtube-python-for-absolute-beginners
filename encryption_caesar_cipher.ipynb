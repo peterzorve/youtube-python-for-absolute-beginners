{
 "cells": [
  {
   "cell_type": "markdown",
   "metadata": {},
   "source": [
    "<h4 style=\"background-color: black; color: orange; font-family: Consolas, sans-serif; border-radius: 10px; padding: 3px; padding-left: 10px; \">\n",
    "    Simple text encryption\n",
    "</h4>\n"
   ]
  },
  {
   "cell_type": "code",
   "execution_count": null,
   "metadata": {},
   "outputs": [],
   "source": [
    "# There are several way to encrypt and decrypt text. One popular one is known as the \n",
    "# caesar cipher encryption. This is easy to decrypt. We will combine that with a new\n",
    "# method to make it a bit complex. \n",
    "# First let's look at the caesar cipher encryption"
   ]
  },
  {
   "cell_type": "code",
   "execution_count": 12,
   "metadata": {},
   "outputs": [
    {
     "data": {
      "text/plain": [
       "'e wi ranu penaz'"
      ]
     },
     "execution_count": 12,
     "metadata": {},
     "output_type": "execute_result"
    }
   ],
   "source": [
    "def caesar_cipher_encryption(text, shift_number): \n",
    "    text = str(text).lower() # Convert everything to lowercase\n",
    "    base = ord(\"a\")\n",
    "    result = \"\"\n",
    "    for character in text: \n",
    "        if character.isalpha():\n",
    "            new_ord = ord(character) + shift_number     # This shifts the each character by shift_number\n",
    "            new_ord = (new_ord - base) % 26 + base\n",
    "            new_character = chr(new_ord) \n",
    "            result = result + new_character\n",
    "        else: \n",
    "            result = result + character\n",
    "    # print(result)    \n",
    "            \n",
    "    return result \n",
    "\n",
    "caesar_cipher_encryption(\"I am very tired\", 100)"
   ]
  },
  {
   "cell_type": "code",
   "execution_count": 13,
   "metadata": {},
   "outputs": [
    {
     "data": {
      "text/plain": [
       "'i am very tired'"
      ]
     },
     "execution_count": 13,
     "metadata": {},
     "output_type": "execute_result"
    }
   ],
   "source": [
    "# let us decrypt the previous encryption\n",
    "\n",
    "def caesar_cipher_decryption(text, shift_number): \n",
    "    shift_number = -abs(shift_number)\n",
    "    text = str(text).lower() # Convert everything to lowercase\n",
    "    base = ord(\"a\")\n",
    "    result = \"\"\n",
    "    for character in text: \n",
    "        if character.isalpha():\n",
    "            new_ord = ord(character) + shift_number     # This shifts the each character by shift_number\n",
    "            new_ord = (new_ord - base) % 26 + base\n",
    "            new_character = chr(new_ord) \n",
    "            result = result + new_character\n",
    "        else: \n",
    "            result = result + character  \n",
    "            \n",
    "    return result \n",
    "\n",
    "caesar_cipher_decryption(\"e wi ranu penaz\", 100)"
   ]
  },
  {
   "cell_type": "code",
   "execution_count": 16,
   "metadata": {},
   "outputs": [
    {
     "name": "stdout",
     "output_type": "stream",
     "text": [
      "wuh sio villiq gy siol viie???\n"
     ]
    }
   ],
   "source": [
    "encrypt_document = caesar_cipher_encryption(\"can you borrow me your book???\", 98)\n",
    "print(encrypt_document)"
   ]
  },
  {
   "cell_type": "code",
   "execution_count": 19,
   "metadata": {},
   "outputs": [
    {
     "name": "stdout",
     "output_type": "stream",
     "text": [
      "can you borrow me your book???\n"
     ]
    }
   ],
   "source": [
    "decrypted_message = caesar_cipher_decryption(encrypt_document, 98) # The shift_number should be the same as that of the encryption\n",
    "print(decrypted_message)"
   ]
  },
  {
   "cell_type": "code",
   "execution_count": null,
   "metadata": {},
   "outputs": [],
   "source": []
  },
  {
   "cell_type": "markdown",
   "metadata": {},
   "source": []
  },
  {
   "cell_type": "markdown",
   "metadata": {},
   "source": []
  }
 ],
 "metadata": {
  "kernelspec": {
   "display_name": "Python 3",
   "language": "python",
   "name": "python3"
  },
  "language_info": {
   "codemirror_mode": {
    "name": "ipython",
    "version": 3
   },
   "file_extension": ".py",
   "mimetype": "text/x-python",
   "name": "python",
   "nbconvert_exporter": "python",
   "pygments_lexer": "ipython3",
   "version": "3.11.4"
  }
 },
 "nbformat": 4,
 "nbformat_minor": 2
}
