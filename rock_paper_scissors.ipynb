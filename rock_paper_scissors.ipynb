{
 "cells": [
  {
   "cell_type": "markdown",
   "metadata": {},
   "source": [
    "<h4 style=\"background-color: black; color: orange; font-family: Consolas, sans-serif; border-radius: 10px; padding: 3px; padding-left: 10px; \">\n",
    "    Rock, paper, scissors game\n",
    "</h4>\n"
   ]
  },
  {
   "cell_type": "code",
   "execution_count": 29,
   "metadata": {},
   "outputs": [
    {
     "name": "stdout",
     "output_type": "stream",
     "text": [
      "Me => scissors  |  Computer => paper  ===> I WIN\n"
     ]
    }
   ],
   "source": [
    "import random \n",
    "\n",
    "def rock_paper_scissors(my_choice): \n",
    "    options = [\"rock\", \"paper\", \"scissors\"]\n",
    "    random_number = random.randint(0, 2)\n",
    "    computer_choice = options[random_number]\n",
    "\n",
    "    if my_choice == computer_choice: \n",
    "        print(f\"Me => {my_choice}  |  Computer => {computer_choice}  ===> TIE\")\n",
    "\n",
    "    if ((my_choice == \"rock\") and (computer_choice == \"paper\") or \n",
    "        ((my_choice == \"paper\") and (computer_choice == \"scissors\")) or \n",
    "        ((my_choice == \"scissors\") and (computer_choice == \"rock\"))): \n",
    "        print(f\"Me => {my_choice}  |  Computer => {computer_choice}  ===> Computer WINS\") \n",
    "\n",
    "    if ((my_choice == \"rock\") and (computer_choice == \"scissors\") or \n",
    "        (my_choice == \"paper\") and (computer_choice == \"rock\") or \n",
    "        (my_choice == \"scissors\") and (computer_choice == \"paper\")): \n",
    "        print(f\"Me => {my_choice}  |  Computer => {computer_choice}  ===> I WIN\") \n",
    "    return \n",
    "\n",
    "rock_paper_scissors(my_choice=\"scissors\")"
   ]
  }
 ],
 "metadata": {
  "kernelspec": {
   "display_name": "Python 3",
   "language": "python",
   "name": "python3"
  },
  "language_info": {
   "codemirror_mode": {
    "name": "ipython",
    "version": 3
   },
   "file_extension": ".py",
   "mimetype": "text/x-python",
   "name": "python",
   "nbconvert_exporter": "python",
   "pygments_lexer": "ipython3",
   "version": "3.11.4"
  }
 },
 "nbformat": 4,
 "nbformat_minor": 2
}
