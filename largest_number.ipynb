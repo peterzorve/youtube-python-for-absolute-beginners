{
 "cells": [
  {
   "cell_type": "markdown",
   "metadata": {},
   "source": [
    "<h4 style=\"background-color: black; color: orange; font-family: Consolas, sans-serif; border-radius: 10px; padding: 3px; padding-left: 10px; \">\n",
    "    Find the largest number in a list \n",
    "</h4>\n"
   ]
  },
  {
   "cell_type": "code",
   "execution_count": null,
   "metadata": {},
   "outputs": [],
   "source": [
    "def largest_number(any_list):\n",
    "    largest_number_found = None \n",
    "    for i in any_list: \n",
    "        if (type(i) == int) or (type(i) == float):\n",
    "            largest_number_found = i \n",
    "            break \n",
    "\n",
    "    for i in any_list:\n",
    "        if (type(i) == int) or (type(i) == float):\n",
    "            if i > largest_number_found: \n",
    "                largest_number_found = i \n",
    "        else:\n",
    "            pass\n",
    "\n",
    "    if largest_number_found == None: \n",
    "        print(\"No large number found.\")\n",
    "    else:\n",
    "        print(f\"The largest number found in {any_list} is {largest_number_found}.\")\n",
    "    return \n",
    "\n",
    "largest_number([\"-10\", 0, 400, 50, 60])"
   ]
  }
 ],
 "metadata": {
  "language_info": {
   "name": "python"
  }
 },
 "nbformat": 4,
 "nbformat_minor": 2
}
