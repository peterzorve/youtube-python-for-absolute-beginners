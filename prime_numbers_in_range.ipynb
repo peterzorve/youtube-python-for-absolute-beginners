{
 "cells": [
  {
   "cell_type": "markdown",
   "metadata": {},
   "source": [
    "<h4 style=\"background-color: black; color: orange; font-family: Consolas, sans-serif; border-radius: 10px; padding: 3px; padding-left: 10px; \">\n",
    "    Find the prime numbers within a range of numbers\n",
    "</h4>\n"
   ]
  },
  {
   "cell_type": "code",
   "execution_count": 26,
   "metadata": {},
   "outputs": [
    {
     "data": {
      "text/plain": [
       "True"
      ]
     },
     "execution_count": 26,
     "metadata": {},
     "output_type": "execute_result"
    }
   ],
   "source": [
    "def prime_number(number): \n",
    "    is_prime = None \n",
    "    if type(number) == int: \n",
    "        if number <= 1: \n",
    "            pass\n",
    "        elif number == 2: \n",
    "            is_prime = True \n",
    "        else: \n",
    "            is_prime = True\n",
    "            for i in range(2, int(number/2) +1 ): \n",
    "                if number % i == 0: \n",
    "                    is_prime = False \n",
    "    if (is_prime == None) or is_prime == False:  \n",
    "        return False \n",
    "    else: \n",
    "        return True\n"
   ]
  },
  {
   "cell_type": "code",
   "execution_count": 40,
   "metadata": {},
   "outputs": [
    {
     "name": "stdout",
     "output_type": "stream",
     "text": [
      "The prime number(s) within the range of 10 and 60 is/are [11, 13, 17, 19, 23, 29, 31, 37, 41, 43, 47, 53, 59]\n"
     ]
    }
   ],
   "source": [
    "def prime_numbers_within_a_range(start_number, end_number): \n",
    "    all_prime_numbers = []\n",
    "    if ((type(start_number) == int) or (type(start_number) == float)) and ((type(end_number) == int) or (type(end_number) == float)): \n",
    "        start_number = int(start_number)\n",
    "        end_number = int(end_number)\n",
    "        if start_number > end_number: \n",
    "            print(\"Start number should be smaller the the end number\")\n",
    "        else: \n",
    "            for i in range(start_number, end_number + 1):\n",
    "                is_prime = prime_number(i)\n",
    "                if is_prime == True: \n",
    "                    all_prime_numbers.append(i)\n",
    "\n",
    "    if len(all_prime_numbers) == 0: \n",
    "        print(\"No prime number found\")\n",
    "    else:\n",
    "        print(f\"The prime number(s) within the range of {start_number} and {end_number} is/are {all_prime_numbers}\")\n",
    "    return \n",
    "\n",
    "prime_numbers_within_a_range(10.8, 60.5)"
   ]
  }
 ],
 "metadata": {
  "kernelspec": {
   "display_name": "Python 3",
   "language": "python",
   "name": "python3"
  },
  "language_info": {
   "codemirror_mode": {
    "name": "ipython",
    "version": 3
   },
   "file_extension": ".py",
   "mimetype": "text/x-python",
   "name": "python",
   "nbconvert_exporter": "python",
   "pygments_lexer": "ipython3",
   "version": "3.11.4"
  }
 },
 "nbformat": 4,
 "nbformat_minor": 2
}
