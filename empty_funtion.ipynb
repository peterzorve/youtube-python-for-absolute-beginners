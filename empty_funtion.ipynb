{
 "cells": [
  {
   "cell_type": "code",
   "execution_count": 1,
   "metadata": {},
   "outputs": [
    {
     "name": "stdout",
     "output_type": "stream",
     "text": [
      "200.2 should be an integer\n"
     ]
    }
   ],
   "source": [
    "def even_or_odd(number): \n",
    "    if type(number) == int:\n",
    "        if number >= 0:\n",
    "            if number % 2 == 0: \n",
    "                print(number, \"is an even number\")\n",
    "            else: \n",
    "                print(number, \"is an odd number\")\n",
    "        else: \n",
    "            print(number, \"should be greater than zero\")\n",
    "    else: \n",
    "        print(number, \"should be an integer\")\n",
    "    return \n",
    "\n",
    "even_or_odd(200.2)"
   ]
  }
 ],
 "metadata": {
  "kernelspec": {
   "display_name": "Python 3",
   "language": "python",
   "name": "python3"
  },
  "language_info": {
   "codemirror_mode": {
    "name": "ipython",
    "version": 3
   },
   "file_extension": ".py",
   "mimetype": "text/x-python",
   "name": "python",
   "nbconvert_exporter": "python",
   "pygments_lexer": "ipython3",
   "version": "3.11.4"
  }
 },
 "nbformat": 4,
 "nbformat_minor": 2
}
