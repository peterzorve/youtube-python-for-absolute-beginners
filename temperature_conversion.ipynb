{
 "cells": [
  {
   "cell_type": "markdown",
   "metadata": {},
   "source": [
    "<h4 style=\"background-color: black; color: orange; font-family: Consolas, sans-serif; border-radius: 10px; padding: 3px; padding-left: 10px; \">\n",
    "    Temperature conversion between Celsius and Fahrenheit \n",
    "</h4>\n"
   ]
  },
  {
   "cell_type": "code",
   "execution_count": 22,
   "metadata": {},
   "outputs": [
    {
     "name": "stdout",
     "output_type": "stream",
     "text": [
      "122°F = 50.0°C\n"
     ]
    }
   ],
   "source": [
    "def temperature_conversion(temperature_value, conversion_type): # conversion_type will determine whether it is from Celsius to Fahrenheit or vice versa\n",
    "    if conversion_type in [\"C2F\", \"F2C\"]: # C2F = Celsius to Fahrenheit, F2C =  Fahrenheit to Celsius \n",
    "        if (type(temperature_value) == int) or (type(temperature_value) == float):\n",
    "            if conversion_type == \"C2F\":\n",
    "                fahrenheit_temperature = (temperature_value * 9/5) + 32 \n",
    "                print(f\"{temperature_value}°C = {fahrenheit_temperature}°F\")\n",
    "            else: \n",
    "                celsius_temperature = (temperature_value  - 32) * 5/9\n",
    "                print(f\"{temperature_value}°F = {celsius_temperature}°C\")\n",
    "        else: \n",
    "            print(f\"{temperature_value} is not a valid number\")\n",
    "    else:\n",
    "        print(\"Incorrect conversion type\")\n",
    "    return \n",
    "\n",
    "temperature_conversion(122, \"F2C\")"
   ]
  }
 ],
 "metadata": {
  "kernelspec": {
   "display_name": "Python 3",
   "language": "python",
   "name": "python3"
  },
  "language_info": {
   "codemirror_mode": {
    "name": "ipython",
    "version": 3
   },
   "file_extension": ".py",
   "mimetype": "text/x-python",
   "name": "python",
   "nbconvert_exporter": "python",
   "pygments_lexer": "ipython3",
   "version": "3.11.4"
  }
 },
 "nbformat": 4,
 "nbformat_minor": 2
}
