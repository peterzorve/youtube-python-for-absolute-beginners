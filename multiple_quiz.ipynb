{
 "cells": [
  {
   "cell_type": "markdown",
   "metadata": {},
   "source": [
    "<h4 style=\"background-color: black; color: orange; font-family: Consolas, sans-serif; border-radius: 10px; padding: 3px; padding-left: 10px; \">\n",
    "    Multiple Choice Quiz\n",
    "</h4>\n"
   ]
  },
  {
   "cell_type": "code",
   "execution_count": null,
   "metadata": {},
   "outputs": [],
   "source": [
    "# Let us first write a function that will help select the correct option\n",
    "\n",
    "def provide_valid_answer():\n",
    "    while True:\n",
    "        selected_option = input(\"Choose an answer: \")\n",
    "        if selected_option.upper() in [\"A\", \"B\", \"C\", \"D\"]: \n",
    "            return selected_option.upper()\n",
    "        else: \n",
    "            print(f\"WARNING: {selected_option} is not acceptable. Choose from one of the following: A, B, C, D\")\n",
    "    return \n",
    "\n",
    "provide_valid_answer()"
   ]
  },
  {
   "cell_type": "code",
   "execution_count": null,
   "metadata": {},
   "outputs": [],
   "source": []
  },
  {
   "cell_type": "code",
   "execution_count": null,
   "metadata": {},
   "outputs": [],
   "source": []
  },
  {
   "cell_type": "code",
   "execution_count": 13,
   "metadata": {},
   "outputs": [
    {
     "name": "stdout",
     "output_type": "stream",
     "text": [
      "Q1: What is the capital of Finland?\n",
      "A: Helsinki\n",
      "B: Toronto\n",
      "C: Paris\n",
      "D: London\n",
      "=====================================================================\n",
      "A: Helsinki is correct\n",
      "=====================================================================\n",
      "\n",
      "Q2: How many continents are in the world?\n",
      "A: 5\n",
      "B: 6\n",
      "C: 7\n",
      "D: 8\n",
      "=====================================================================\n",
      "A: 5 is incorrect\n",
      "=====================================================================\n",
      "\n",
      "Q3: What is the capital of Nigeria?\n",
      "A: Lagos\n",
      "B: Abuja\n",
      "C: Lome\n",
      "D: Accra\n",
      "=====================================================================\n",
      "A: Lagos is incorrect\n",
      "=====================================================================\n",
      "\n",
      "Q4: Which of the following is not a web browser\n",
      "A: Google Chrome\n",
      "B: Mozilla Firefox\n",
      "C: Microsoft Edge\n",
      "D: Javascript\n",
      "=====================================================================\n",
      "A: Google Chrome is incorrect\n",
      "=====================================================================\n",
      "\n",
      "Q5: WHich of the following is a programming language\n",
      "A: Python\n",
      "B: Data Science\n",
      "C: Artificial Intelligence\n",
      "D: Chemistry\n",
      "=====================================================================\n",
      "A: Python is correct\n",
      "=====================================================================\n",
      "\n",
      "Your score 2 out of 5\n"
     ]
    }
   ],
   "source": [
    "from question_database import all_qustions \n",
    "\n",
    "\n",
    "def multpible_choice_quiz(question): \n",
    "    score = 0\n",
    "    for (index, item) in enumerate(question):\n",
    "        print(f\"Q{index + 1}: {item['question']}\")\n",
    "        print(f\"A: {item['A']}\")\n",
    "        print(f\"B: {item['B']}\")\n",
    "        print(f\"C: {item['C']}\")\n",
    "        print(f\"D: {item['D']}\")\n",
    "\n",
    "        selected_option = provide_valid_answer()\n",
    "        print(\"=====================================================================\")\n",
    "        if selected_option == item[\"correct_option\"]: \n",
    "            print(f\"{selected_option}: {item[selected_option]} is correct\") \n",
    "            score = score + 1 \n",
    "        else: \n",
    "            print(f\"{selected_option}: {item[selected_option]} is incorrect\")\n",
    "        print(\"=====================================================================\")\n",
    "        print()\n",
    "\n",
    "    print(f\"Your score {score} out of {len(question)}\")\n",
    "\n",
    "\n",
    "    return \n",
    "\n",
    "multpible_choice_quiz(question=all_qustions)"
   ]
  },
  {
   "cell_type": "code",
   "execution_count": null,
   "metadata": {},
   "outputs": [],
   "source": []
  }
 ],
 "metadata": {
  "kernelspec": {
   "display_name": "Python 3",
   "language": "python",
   "name": "python3"
  },
  "language_info": {
   "codemirror_mode": {
    "name": "ipython",
    "version": 3
   },
   "file_extension": ".py",
   "mimetype": "text/x-python",
   "name": "python",
   "nbconvert_exporter": "python",
   "pygments_lexer": "ipython3",
   "version": "3.11.4"
  }
 },
 "nbformat": 4,
 "nbformat_minor": 2
}
