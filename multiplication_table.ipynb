{
 "cells": [
  {
   "cell_type": "markdown",
   "metadata": {},
   "source": [
    "<h4 style=\"background-color: black; color: orange; font-family: Consolas, sans-serif; border-radius: 10px; padding: 3px; padding-left: 10px; \">\n",
    "    Create a multpilication table \n",
    "</h4>\n"
   ]
  },
  {
   "cell_type": "code",
   "execution_count": 2,
   "metadata": {},
   "outputs": [
    {
     "name": "stdout",
     "output_type": "stream",
     "text": [
      "15 * 1 = 15\n",
      "15 * 2 = 30\n",
      "15 * 3 = 45\n",
      "15 * 4 = 60\n",
      "15 * 5 = 75\n",
      "15 * 6 = 90\n",
      "15 * 7 = 105\n",
      "15 * 8 = 120\n",
      "15 * 9 = 135\n",
      "15 * 10 = 150\n"
     ]
    }
   ],
   "source": [
    "def multiplication_table(number, max):\n",
    "    if (type(number) == int) or (type(number) == float):\n",
    "        if (type(max) == int) and max > 0:\n",
    "            for i in range(1, max + 1):\n",
    "                print(number, \"*\", i, \"=\", number * i)\n",
    "        else:\n",
    "            print(max, \"should be an integer and should be greater than zero\")\n",
    "    else:\n",
    "        print(number, \"is not a valid number\")\n",
    "    return \n",
    "\n",
    "multiplication_table(15, 10)"
   ]
  }
 ],
 "metadata": {
  "kernelspec": {
   "display_name": "Python 3",
   "language": "python",
   "name": "python3"
  },
  "language_info": {
   "codemirror_mode": {
    "name": "ipython",
    "version": 3
   },
   "file_extension": ".py",
   "mimetype": "text/x-python",
   "name": "python",
   "nbconvert_exporter": "python",
   "pygments_lexer": "ipython3",
   "version": "3.11.4"
  }
 },
 "nbformat": 4,
 "nbformat_minor": 2
}
