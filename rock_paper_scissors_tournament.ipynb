{
 "cells": [
  {
   "cell_type": "markdown",
   "metadata": {},
   "source": [
    "<h4 style=\"background-color: black; color: orange; font-family: Consolas, sans-serif; border-radius: 10px; padding: 3px; padding-left: 10px; \">\n",
    "    Rock, paper, scissors game tournament\n",
    "</h4>\n"
   ]
  },
  {
   "cell_type": "code",
   "execution_count": 28,
   "metadata": {},
   "outputs": [
    {
     "name": "stdout",
     "output_type": "stream",
     "text": [
      "my wins:         58\n",
      "computer wins:   71\n",
      "tie:             71\n"
     ]
    }
   ],
   "source": [
    "import random\n",
    "def rock_paper_scissors():\n",
    "    options = [\"rock\", \"paper\", \"scissors\"] \n",
    "    computer_random_number = random.randint(0, 2)\n",
    "    my_random_number = random.randint(0, 2)\n",
    "\n",
    "    computer_choice = options[computer_random_number]\n",
    "    my_choice = options[my_random_number]\n",
    "\n",
    "    if my_choice == computer_choice: \n",
    "        # print(f\"Me => {my_choice}  |  Computer => {computer_choice}  ===> TIE\")\n",
    "        return 0 \n",
    "    \n",
    "    if ((my_choice == \"rock\") and (computer_choice == \"paper\") or ((my_choice == \"paper\") and (computer_choice == \"scissors\")) or ((my_choice == \"scissors\") and (computer_choice == \"rock\"))):\n",
    "        # print(f\"Me => {my_choice}  |  Computer => {computer_choice}  ===> Computer WINS\") \n",
    "        return -1 \n",
    "    \n",
    "    if ((my_choice == \"rock\") and (computer_choice == \"scissors\") or (my_choice == \"paper\") and (computer_choice == \"rock\") or (my_choice == \"scissors\") and (computer_choice == \"paper\")):\n",
    "        # print(f\"Me => {my_choice}  |  Computer => {computer_choice}  ===> I WIN\") \n",
    "        return 1\n",
    "\n",
    "\n",
    "\n",
    "def rock_paper_scissors_tournament(game_number):\n",
    "    my_wins = 0 \n",
    "    computer_wins = 0 \n",
    "    tie = 0 \n",
    "    if (type(game_number) == int) and game_number > 0:\n",
    "        for i in range(game_number):\n",
    "            who_won =  rock_paper_scissors()\n",
    "\n",
    "            if who_won == -1:\n",
    "                computer_wins = computer_wins + 1\n",
    "            elif who_won == 1:\n",
    "                my_wins = my_wins + 1\n",
    "            else: \n",
    "                tie = tie + 1\n",
    "            \n",
    "    print(f\"my wins:        \", my_wins)\n",
    "    print(f\"computer wins:  \", computer_wins)\n",
    "    print(f\"tie:            \", tie)\n",
    "        \n",
    "    return\n",
    "\n",
    "rock_paper_scissors_tournament(200)"
   ]
  }
 ],
 "metadata": {
  "kernelspec": {
   "display_name": "Python 3",
   "language": "python",
   "name": "python3"
  },
  "language_info": {
   "codemirror_mode": {
    "name": "ipython",
    "version": 3
   },
   "file_extension": ".py",
   "mimetype": "text/x-python",
   "name": "python",
   "nbconvert_exporter": "python",
   "pygments_lexer": "ipython3",
   "version": "3.11.4"
  }
 },
 "nbformat": 4,
 "nbformat_minor": 2
}
