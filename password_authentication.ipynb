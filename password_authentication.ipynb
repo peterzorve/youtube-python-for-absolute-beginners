{
 "cells": [
  {
   "cell_type": "markdown",
   "metadata": {},
   "source": [
    "<h4 style=\"background-color: black; color: orange; font-family: Consolas, sans-serif; border-radius: 10px; padding: 3px; padding-left: 10px; \">\n",
    "    Password login authentication \n",
    "</h4>\n"
   ]
  },
  {
   "cell_type": "code",
   "execution_count": 10,
   "metadata": {},
   "outputs": [
    {
     "name": "stdout",
     "output_type": "stream",
     "text": [
      "Your passowrd 1230 is incorrect. Your have 9 left. Try again\n",
      "Your passowrd 2023 is incorrect. Your have 8 left. Try again\n",
      "Your passowrd 2302 is incorrect. Your have 7 left. Try again\n",
      "Your passowrd 2 is incorrect. Your have 6 left. Try again\n",
      "Your passowrd 312 is incorrect. Your have 5 left. Try again\n",
      "Your passowrd 25 is incorrect. Your have 4 left. Try again\n",
      "Your passowrd 1511 is incorrect. Your have 3 left. Try again\n",
      "Your passowrd 22555 is incorrect. Your have 2 left. Try again\n",
      "Your passowrd 254 is incorrect. Your have 1 left. Try again\n",
      "Login successful\n"
     ]
    }
   ],
   "source": [
    "def password_authentication(max_attempts):\n",
    "    number_attempts = 0 \n",
    "    while True: \n",
    "        password = str(input(\"Enter your password: \"))\n",
    "        if password == \"1234\":\n",
    "            print(\"Login successful\")\n",
    "            break\n",
    "        else: \n",
    "            number_attempts += 1 \n",
    "            print(f\"Your passowrd {password} is incorrect. Your have {max_attempts-number_attempts} left. Try again\")\n",
    "            if number_attempts == max_attempts: \n",
    "                print(f\"You have tried {max_attempts} times. Phone is locked\")\n",
    "                break \n",
    "    return\n",
    "\n",
    "password_authentication(10)"
   ]
  }
 ],
 "metadata": {
  "kernelspec": {
   "display_name": "Python 3",
   "language": "python",
   "name": "python3"
  },
  "language_info": {
   "codemirror_mode": {
    "name": "ipython",
    "version": 3
   },
   "file_extension": ".py",
   "mimetype": "text/x-python",
   "name": "python",
   "nbconvert_exporter": "python",
   "pygments_lexer": "ipython3",
   "version": "3.11.4"
  }
 },
 "nbformat": 4,
 "nbformat_minor": 2
}
